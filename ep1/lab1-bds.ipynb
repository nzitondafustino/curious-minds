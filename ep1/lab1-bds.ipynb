{
 "cells": [
  {
   "cell_type": "markdown",
   "id": "24475312",
   "metadata": {},
   "source": [
    "## Install python dependencies"
   ]
  },
  {
   "cell_type": "code",
   "execution_count": 1,
   "id": "9c4001ed",
   "metadata": {},
   "outputs": [
    {
     "name": "stdout",
     "output_type": "stream",
     "text": [
      "Requirement already satisfied: redis==6.2.0 in ./.venv/lib/python3.9/site-packages (from -r requirements.txt (line 1)) (6.2.0)\n",
      "Requirement already satisfied: psycopg[binary]==3.2.9 in ./.venv/lib/python3.9/site-packages (from -r requirements.txt (line 2)) (3.2.9)\n",
      "Requirement already satisfied: pandas==2.3.0 in ./.venv/lib/python3.9/site-packages (from -r requirements.txt (line 3)) (2.3.0)\n",
      "Requirement already satisfied: pymongo==4.13.2 in ./.venv/lib/python3.9/site-packages (from -r requirements.txt (line 4)) (4.13.2)\n",
      "Requirement already satisfied: pyspark[connect]==4.0.0 in ./.venv/lib/python3.9/site-packages (from -r requirements.txt (line 5)) (4.0.0)\n",
      "Requirement already satisfied: async-timeout>=4.0.3 in ./.venv/lib/python3.9/site-packages (from redis==6.2.0->-r requirements.txt (line 1)) (5.0.1)\n",
      "Requirement already satisfied: typing-extensions>=4.6 in ./.venv/lib/python3.9/site-packages (from psycopg[binary]==3.2.9->-r requirements.txt (line 2)) (4.14.0)\n",
      "Requirement already satisfied: psycopg-binary==3.2.9 in ./.venv/lib/python3.9/site-packages (from psycopg[binary]==3.2.9->-r requirements.txt (line 2)) (3.2.9)\n",
      "Requirement already satisfied: pytz>=2020.1 in ./.venv/lib/python3.9/site-packages (from pandas==2.3.0->-r requirements.txt (line 3)) (2025.2)\n",
      "Requirement already satisfied: tzdata>=2022.7 in ./.venv/lib/python3.9/site-packages (from pandas==2.3.0->-r requirements.txt (line 3)) (2025.2)\n",
      "Requirement already satisfied: python-dateutil>=2.8.2 in ./.venv/lib/python3.9/site-packages (from pandas==2.3.0->-r requirements.txt (line 3)) (2.9.0.post0)\n",
      "Requirement already satisfied: numpy>=1.22.4 in ./.venv/lib/python3.9/site-packages (from pandas==2.3.0->-r requirements.txt (line 3)) (2.0.2)\n",
      "Requirement already satisfied: dnspython<3.0.0,>=1.16.0 in ./.venv/lib/python3.9/site-packages (from pymongo==4.13.2->-r requirements.txt (line 4)) (2.7.0)\n",
      "Requirement already satisfied: py4j==0.10.9.9 in ./.venv/lib/python3.9/site-packages (from pyspark[connect]==4.0.0->-r requirements.txt (line 5)) (0.10.9.9)\n",
      "Requirement already satisfied: pyarrow>=11.0.0 in ./.venv/lib/python3.9/site-packages (from pyspark[connect]==4.0.0->-r requirements.txt (line 5)) (20.0.0)\n",
      "Requirement already satisfied: grpcio>=1.67.0 in ./.venv/lib/python3.9/site-packages (from pyspark[connect]==4.0.0->-r requirements.txt (line 5)) (1.73.1)\n",
      "Requirement already satisfied: grpcio-status>=1.67.0 in ./.venv/lib/python3.9/site-packages (from pyspark[connect]==4.0.0->-r requirements.txt (line 5)) (1.73.1)\n",
      "Requirement already satisfied: googleapis-common-protos>=1.65.0 in ./.venv/lib/python3.9/site-packages (from pyspark[connect]==4.0.0->-r requirements.txt (line 5)) (1.70.0)\n",
      "Requirement already satisfied: protobuf!=4.21.1,!=4.21.2,!=4.21.3,!=4.21.4,!=4.21.5,<7.0.0,>=3.20.2 in ./.venv/lib/python3.9/site-packages (from googleapis-common-protos>=1.65.0->pyspark[connect]==4.0.0->-r requirements.txt (line 5)) (6.31.1)\n",
      "Requirement already satisfied: six>=1.5 in ./.venv/lib/python3.9/site-packages (from python-dateutil>=2.8.2->pandas==2.3.0->-r requirements.txt (line 3)) (1.17.0)\n",
      "\u001b[33mWARNING: You are using pip version 21.2.4; however, version 25.1.1 is available.\n",
      "You should consider upgrading via the '/Users/faustin/Desktop/learning/curious-minds/ep1/.venv/bin/python -m pip install --upgrade pip' command.\u001b[0m\n",
      "Note: you may need to restart the kernel to use updated packages.\n"
     ]
    }
   ],
   "source": [
    "pip install -r requirements.txt"
   ]
  },
  {
   "cell_type": "markdown",
   "id": "65aad15e",
   "metadata": {},
   "source": [
    "# Redis"
   ]
  },
  {
   "cell_type": "code",
   "execution_count": 2,
   "id": "e28c92ee",
   "metadata": {},
   "outputs": [],
   "source": [
    "import redis \n",
    "import json\n",
    "# create redis instance\n",
    "r = redis.Redis(host='localhost', port=6379, db=0, decode_responses=True)"
   ]
  },
  {
   "cell_type": "code",
   "execution_count": 3,
   "id": "7cca00c6",
   "metadata": {},
   "outputs": [
    {
     "name": "stdout",
     "output_type": "stream",
     "text": [
      "{'name': 'Faustin', 'age': 30, 'language': 'Python'}\n",
      "Hello world\n",
      "['1', '23', '4']\n"
     ]
    }
   ],
   "source": [
    "user = {\"name\": \"Faustin\", \"age\": 30, \"language\": \"Python\"}\n",
    "#  Save data to redis\n",
    "r.set(\"user:101\", json.dumps(user))\n",
    "\n",
    "# retrieve data\n",
    "data = json.loads(r.get(\"user:101\"))\n",
    "print(data)\n",
    "\n",
    "# set other value\n",
    "r.set(\"09932\", \"Hello world\")\n",
    "data = r.get(\"09932\")\n",
    "print(data)\n",
    "\n",
    "# save a list\n",
    "r.delete(\"mylist\")\n",
    "r.rpush('mylist', *[1,23,4])\n",
    "data = r.lrange(\"mylist\", 0,-1)\n",
    "print(data)\n",
    "# learn more at: https://pypi.org/project/redis/"
   ]
  },
  {
   "cell_type": "markdown",
   "id": "51a23a19",
   "metadata": {},
   "source": [
    "# Postgres"
   ]
  },
  {
   "cell_type": "code",
   "execution_count": 4,
   "id": "1294426a",
   "metadata": {},
   "outputs": [],
   "source": [
    "# Connection parameters\n",
    "conn_params = {\n",
    "    \"dbname\": \"mydatabase\",\n",
    "    \"user\": \"myuser\",\n",
    "    \"password\": \"mypassword\",\n",
    "    \"host\": \"localhost\",  # use \"postgres\" if running inside Docker\n",
    "    \"port\": 5432\n",
    "}"
   ]
  },
  {
   "cell_type": "code",
   "execution_count": 5,
   "id": "d1ab0a42",
   "metadata": {},
   "outputs": [],
   "source": [
    "import psycopg\n",
    "import pandas as pd\n",
    "\n",
    "# Define all uses\n",
    "users_to_insert = [\n",
    "    (\"User1\", 20),\n",
    "    (\"User2\", 21),\n",
    "    (\"User3\", 22),\n",
    "    (\"User4\", 23),\n",
    "    (\"User5\", 24),\n",
    "    (\"User6\", 25),\n",
    "    (\"User7\", 26),\n",
    "    (\"User8\", 27),\n",
    "    (\"User9\", 28),\n",
    "    (\"User10\", 29),\n",
    "]\n",
    "\n",
    "\n",
    "\n",
    "\n",
    "with psycopg.connect(**conn_params) as conn:\n",
    "    with conn.cursor() as cur:\n",
    "        cur.execute(\"\"\"\n",
    "            CREATE TABLE IF NOT EXISTS users (\n",
    "                id SERIAL PRIMARY KEY,\n",
    "                name TEXT,\n",
    "                age INTEGER\n",
    "            )\n",
    "        \"\"\")\n",
    "        \n",
    "        # Insert multiple rows at once\n",
    "        cur.executemany(\n",
    "            \"INSERT INTO users (name, age) VALUES (%s, %s)\",\n",
    "            users_to_insert\n",
    "        )"
   ]
  },
  {
   "cell_type": "code",
   "execution_count": 6,
   "id": "0c3e8370",
   "metadata": {},
   "outputs": [
    {
     "data": {
      "text/html": [
       "<div>\n",
       "<style scoped>\n",
       "    .dataframe tbody tr th:only-of-type {\n",
       "        vertical-align: middle;\n",
       "    }\n",
       "\n",
       "    .dataframe tbody tr th {\n",
       "        vertical-align: top;\n",
       "    }\n",
       "\n",
       "    .dataframe thead th {\n",
       "        text-align: right;\n",
       "    }\n",
       "</style>\n",
       "<table border=\"1\" class=\"dataframe\">\n",
       "  <thead>\n",
       "    <tr style=\"text-align: right;\">\n",
       "      <th></th>\n",
       "      <th>id</th>\n",
       "      <th>name</th>\n",
       "      <th>age</th>\n",
       "    </tr>\n",
       "  </thead>\n",
       "  <tbody>\n",
       "    <tr>\n",
       "      <th>0</th>\n",
       "      <td>1</td>\n",
       "      <td>User1</td>\n",
       "      <td>20</td>\n",
       "    </tr>\n",
       "    <tr>\n",
       "      <th>1</th>\n",
       "      <td>2</td>\n",
       "      <td>User2</td>\n",
       "      <td>21</td>\n",
       "    </tr>\n",
       "    <tr>\n",
       "      <th>2</th>\n",
       "      <td>3</td>\n",
       "      <td>User3</td>\n",
       "      <td>22</td>\n",
       "    </tr>\n",
       "    <tr>\n",
       "      <th>3</th>\n",
       "      <td>4</td>\n",
       "      <td>User4</td>\n",
       "      <td>23</td>\n",
       "    </tr>\n",
       "    <tr>\n",
       "      <th>4</th>\n",
       "      <td>5</td>\n",
       "      <td>User5</td>\n",
       "      <td>24</td>\n",
       "    </tr>\n",
       "    <tr>\n",
       "      <th>5</th>\n",
       "      <td>6</td>\n",
       "      <td>User6</td>\n",
       "      <td>25</td>\n",
       "    </tr>\n",
       "    <tr>\n",
       "      <th>6</th>\n",
       "      <td>7</td>\n",
       "      <td>User7</td>\n",
       "      <td>26</td>\n",
       "    </tr>\n",
       "    <tr>\n",
       "      <th>7</th>\n",
       "      <td>8</td>\n",
       "      <td>User8</td>\n",
       "      <td>27</td>\n",
       "    </tr>\n",
       "    <tr>\n",
       "      <th>8</th>\n",
       "      <td>9</td>\n",
       "      <td>User9</td>\n",
       "      <td>28</td>\n",
       "    </tr>\n",
       "    <tr>\n",
       "      <th>9</th>\n",
       "      <td>10</td>\n",
       "      <td>User10</td>\n",
       "      <td>29</td>\n",
       "    </tr>\n",
       "  </tbody>\n",
       "</table>\n",
       "</div>"
      ],
      "text/plain": [
       "   id    name  age\n",
       "0   1   User1   20\n",
       "1   2   User2   21\n",
       "2   3   User3   22\n",
       "3   4   User4   23\n",
       "4   5   User5   24\n",
       "5   6   User6   25\n",
       "6   7   User7   26\n",
       "7   8   User8   27\n",
       "8   9   User9   28\n",
       "9  10  User10   29"
      ]
     },
     "execution_count": 6,
     "metadata": {},
     "output_type": "execute_result"
    }
   ],
   "source": [
    "import psycopg\n",
    "import pandas as pd\n",
    "\n",
    "#  Fetch users as pandas dataframe\n",
    "with psycopg.connect(**conn_params) as conn:\n",
    "    with conn.cursor() as cur:\n",
    "        cur.execute(\"SELECT * FROM users\")\n",
    "        rows = cur.fetchall()               # list of tuples\n",
    "        colnames = [desc[0] for desc in cur.description]  # get column names\n",
    "\n",
    "# Create DataFrame from rows + column names\n",
    "df = pd.DataFrame(rows, columns=colnames)\n",
    "df"
   ]
  },
  {
   "cell_type": "markdown",
   "id": "32c676e1",
   "metadata": {},
   "source": [
    "# MongoDB"
   ]
  },
  {
   "cell_type": "markdown",
   "id": "a5fd07a7",
   "metadata": {},
   "source": [
    "## Create connection"
   ]
  },
  {
   "cell_type": "code",
   "execution_count": 7,
   "id": "284209db",
   "metadata": {},
   "outputs": [],
   "source": [
    "from pymongo import MongoClient\n",
    "import random\n",
    "import string\n",
    "\n",
    "# MongoDB connection details\n",
    "mongo_user = \"mongoadmin\"\n",
    "mongo_password = \"secretpassword\"\n",
    "mongo_host = \"localhost\"  # or \"mongo\" if inside Docker Compose\n",
    "mongo_port = 27017\n",
    "\n",
    "uri = f\"mongodb://{mongo_user}:{mongo_password}@{mongo_host}:{mongo_port}/\"\n",
    "client = MongoClient(uri)\n",
    "\n",
    "db = client.mydatabase\n",
    "collection = db.users"
   ]
  },
  {
   "cell_type": "code",
   "execution_count": 8,
   "id": "60de57c6",
   "metadata": {},
   "outputs": [
    {
     "name": "stdout",
     "output_type": "stream",
     "text": [
      "[{'name': 'NmKlVb', 'age': 38}, {'name': 'PfWlGK', 'age': 19}, {'name': 'LAdquN', 'age': 34}, {'name': 'xYAaul', 'age': 52}, {'name': 'cqXDhy', 'age': 59}, {'name': 'CQTbxa', 'age': 60}, {'name': 'ltLZTr', 'age': 51}, {'name': 'uKXrxY', 'age': 51}, {'name': 'AwBXpm', 'age': 58}, {'name': 'Xwehis', 'age': 25}]\n",
      "Inserted user IDs: [ObjectId('685e9304c01b74a82f077fad'), ObjectId('685e9304c01b74a82f077fae'), ObjectId('685e9304c01b74a82f077faf'), ObjectId('685e9304c01b74a82f077fb0'), ObjectId('685e9304c01b74a82f077fb1'), ObjectId('685e9304c01b74a82f077fb2'), ObjectId('685e9304c01b74a82f077fb3'), ObjectId('685e9304c01b74a82f077fb4'), ObjectId('685e9304c01b74a82f077fb5'), ObjectId('685e9304c01b74a82f077fb6')]\n"
     ]
    }
   ],
   "source": [
    "# Function to generate random name\n",
    "def random_name(length=6):\n",
    "    return ''.join(random.choices(string.ascii_letters, k=length))\n",
    "\n",
    "# Generate 10 random user documents\n",
    "users = []\n",
    "for _ in range(10):\n",
    "    user = {\n",
    "        \"name\": random_name(),\n",
    "        \"age\": random.randint(18, 60)\n",
    "    }\n",
    "    users.append(user)\n",
    "print(users)\n",
    "# Insert users into MongoDB\n",
    "result = collection.insert_many(users)\n",
    "print(f\"Inserted user IDs: {result.inserted_ids}\")\n"
   ]
  },
  {
   "cell_type": "markdown",
   "id": "22bb83b2",
   "metadata": {},
   "source": [
    "## Add other fields"
   ]
  },
  {
   "cell_type": "code",
   "execution_count": null,
   "id": "c3e23d70",
   "metadata": {},
   "outputs": [
    {
     "name": "stdout",
     "output_type": "stream",
     "text": [
      "[{'name': 'clABut', 'age': 48, 'Income': 4709}]\n",
      "[{'name': 'clABut', 'age': 48, 'Income': 4709}, {'name': 'HZQqbM', 'age': 20, 'Income': 5757}]\n",
      "[{'name': 'clABut', 'age': 48, 'Income': 4709}, {'name': 'HZQqbM', 'age': 20, 'Income': 5757}, {'name': 'qADRYi', 'age': 58, 'Income': 8430}]\n",
      "[{'name': 'clABut', 'age': 48, 'Income': 4709}, {'name': 'HZQqbM', 'age': 20, 'Income': 5757}, {'name': 'qADRYi', 'age': 58, 'Income': 8430}, {'name': 'PSQQav', 'age': 29, 'Income': 7561}]\n",
      "[{'name': 'clABut', 'age': 48, 'Income': 4709}, {'name': 'HZQqbM', 'age': 20, 'Income': 5757}, {'name': 'qADRYi', 'age': 58, 'Income': 8430}, {'name': 'PSQQav', 'age': 29, 'Income': 7561}, {'name': 'LuxnBo', 'age': 42, 'Income': 8016}]\n",
      "[{'name': 'clABut', 'age': 48, 'Income': 4709}, {'name': 'HZQqbM', 'age': 20, 'Income': 5757}, {'name': 'qADRYi', 'age': 58, 'Income': 8430}, {'name': 'PSQQav', 'age': 29, 'Income': 7561}, {'name': 'LuxnBo', 'age': 42, 'Income': 8016}, {'name': 'DkqzyV', 'age': 52, 'Income': 4142}]\n",
      "[{'name': 'clABut', 'age': 48, 'Income': 4709}, {'name': 'HZQqbM', 'age': 20, 'Income': 5757}, {'name': 'qADRYi', 'age': 58, 'Income': 8430}, {'name': 'PSQQav', 'age': 29, 'Income': 7561}, {'name': 'LuxnBo', 'age': 42, 'Income': 8016}, {'name': 'DkqzyV', 'age': 52, 'Income': 4142}, {'name': 'xNTztC', 'age': 42, 'Income': 4841}]\n",
      "[{'name': 'clABut', 'age': 48, 'Income': 4709}, {'name': 'HZQqbM', 'age': 20, 'Income': 5757}, {'name': 'qADRYi', 'age': 58, 'Income': 8430}, {'name': 'PSQQav', 'age': 29, 'Income': 7561}, {'name': 'LuxnBo', 'age': 42, 'Income': 8016}, {'name': 'DkqzyV', 'age': 52, 'Income': 4142}, {'name': 'xNTztC', 'age': 42, 'Income': 4841}, {'name': 'nXHKHx', 'age': 48, 'Income': 8197}]\n",
      "[{'name': 'clABut', 'age': 48, 'Income': 4709}, {'name': 'HZQqbM', 'age': 20, 'Income': 5757}, {'name': 'qADRYi', 'age': 58, 'Income': 8430}, {'name': 'PSQQav', 'age': 29, 'Income': 7561}, {'name': 'LuxnBo', 'age': 42, 'Income': 8016}, {'name': 'DkqzyV', 'age': 52, 'Income': 4142}, {'name': 'xNTztC', 'age': 42, 'Income': 4841}, {'name': 'nXHKHx', 'age': 48, 'Income': 8197}, {'name': 'Tpfdgl', 'age': 55, 'Income': 6468}]\n",
      "[{'name': 'clABut', 'age': 48, 'Income': 4709}, {'name': 'HZQqbM', 'age': 20, 'Income': 5757}, {'name': 'qADRYi', 'age': 58, 'Income': 8430}, {'name': 'PSQQav', 'age': 29, 'Income': 7561}, {'name': 'LuxnBo', 'age': 42, 'Income': 8016}, {'name': 'DkqzyV', 'age': 52, 'Income': 4142}, {'name': 'xNTztC', 'age': 42, 'Income': 4841}, {'name': 'nXHKHx', 'age': 48, 'Income': 8197}, {'name': 'Tpfdgl', 'age': 55, 'Income': 6468}, {'name': 'ocGmrx', 'age': 51, 'Income': 7665}]\n",
      "Inserted user IDs: [ObjectId('685e9328c01b74a82f077fb7'), ObjectId('685e9328c01b74a82f077fb8'), ObjectId('685e9328c01b74a82f077fb9'), ObjectId('685e9328c01b74a82f077fba'), ObjectId('685e9328c01b74a82f077fbb'), ObjectId('685e9328c01b74a82f077fbc'), ObjectId('685e9328c01b74a82f077fbd'), ObjectId('685e9328c01b74a82f077fbe'), ObjectId('685e9328c01b74a82f077fbf'), ObjectId('685e9328c01b74a82f077fc0')]\n"
     ]
    }
   ],
   "source": [
    "users = []\n",
    "for _ in range(10):\n",
    "    user = {\n",
    "        \"name\": random_name(),\n",
    "        \"age\": random.randint(18, 60),\n",
    "        \"Income\":random.randint(4000, 10000),\n",
    "    }\n",
    "    users.append(user)\n",
    "print(users)\n",
    "# Insert users into MongoDB\n",
    "result = collection.insert_many(users)\n",
    "print(f\"Inserted user IDs: {result.inserted_ids}\")\n"
   ]
  },
  {
   "cell_type": "markdown",
   "id": "9b75e88e",
   "metadata": {},
   "source": [
    "## Fetch Data"
   ]
  },
  {
   "cell_type": "code",
   "execution_count": 10,
   "id": "f4ec78ca",
   "metadata": {},
   "outputs": [
    {
     "name": "stdout",
     "output_type": "stream",
     "text": [
      "{'_id': ObjectId('685e9304c01b74a82f077fad'), 'name': 'NmKlVb', 'age': 38}\n",
      "{'_id': ObjectId('685e9304c01b74a82f077fae'), 'name': 'PfWlGK', 'age': 19}\n",
      "{'_id': ObjectId('685e9304c01b74a82f077faf'), 'name': 'LAdquN', 'age': 34}\n",
      "{'_id': ObjectId('685e9304c01b74a82f077fb0'), 'name': 'xYAaul', 'age': 52}\n",
      "{'_id': ObjectId('685e9304c01b74a82f077fb1'), 'name': 'cqXDhy', 'age': 59}\n",
      "{'_id': ObjectId('685e9304c01b74a82f077fb2'), 'name': 'CQTbxa', 'age': 60}\n",
      "{'_id': ObjectId('685e9304c01b74a82f077fb3'), 'name': 'ltLZTr', 'age': 51}\n",
      "{'_id': ObjectId('685e9304c01b74a82f077fb4'), 'name': 'uKXrxY', 'age': 51}\n",
      "{'_id': ObjectId('685e9304c01b74a82f077fb5'), 'name': 'AwBXpm', 'age': 58}\n",
      "{'_id': ObjectId('685e9304c01b74a82f077fb6'), 'name': 'Xwehis', 'age': 25}\n",
      "{'_id': ObjectId('685e9328c01b74a82f077fb7'), 'name': 'clABut', 'age': 48, 'Income': 4709}\n",
      "{'_id': ObjectId('685e9328c01b74a82f077fb8'), 'name': 'HZQqbM', 'age': 20, 'Income': 5757}\n",
      "{'_id': ObjectId('685e9328c01b74a82f077fb9'), 'name': 'qADRYi', 'age': 58, 'Income': 8430}\n",
      "{'_id': ObjectId('685e9328c01b74a82f077fba'), 'name': 'PSQQav', 'age': 29, 'Income': 7561}\n",
      "{'_id': ObjectId('685e9328c01b74a82f077fbb'), 'name': 'LuxnBo', 'age': 42, 'Income': 8016}\n",
      "{'_id': ObjectId('685e9328c01b74a82f077fbc'), 'name': 'DkqzyV', 'age': 52, 'Income': 4142}\n",
      "{'_id': ObjectId('685e9328c01b74a82f077fbd'), 'name': 'xNTztC', 'age': 42, 'Income': 4841}\n",
      "{'_id': ObjectId('685e9328c01b74a82f077fbe'), 'name': 'nXHKHx', 'age': 48, 'Income': 8197}\n",
      "{'_id': ObjectId('685e9328c01b74a82f077fbf'), 'name': 'Tpfdgl', 'age': 55, 'Income': 6468}\n",
      "{'_id': ObjectId('685e9328c01b74a82f077fc0'), 'name': 'ocGmrx', 'age': 51, 'Income': 7665}\n"
     ]
    }
   ],
   "source": [
    "\n",
    "# Select DB and collection\n",
    "db = client.mydatabase\n",
    "collection = db.users\n",
    "\n",
    "# Fetch all users\n",
    "users = collection.find()\n",
    "\n",
    "# Print each user\n",
    "for user in users:\n",
    "    print(user)\n"
   ]
  },
  {
   "cell_type": "code",
   "execution_count": null,
   "id": "4beaf4a5",
   "metadata": {},
   "outputs": [],
   "source": []
  }
 ],
 "metadata": {
  "kernelspec": {
   "display_name": ".venv",
   "language": "python",
   "name": "python3"
  },
  "language_info": {
   "codemirror_mode": {
    "name": "ipython",
    "version": 3
   },
   "file_extension": ".py",
   "mimetype": "text/x-python",
   "name": "python",
   "nbconvert_exporter": "python",
   "pygments_lexer": "ipython3",
   "version": "3.9.6"
  }
 },
 "nbformat": 4,
 "nbformat_minor": 5
}
