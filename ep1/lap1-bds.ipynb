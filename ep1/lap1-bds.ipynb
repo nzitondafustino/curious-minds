{
 "cells": [
  {
   "cell_type": "markdown",
   "id": "24475312",
   "metadata": {},
   "source": [
    "## Install python dependencies"
   ]
  },
  {
   "cell_type": "code",
   "execution_count": 1,
   "id": "9c4001ed",
   "metadata": {},
   "outputs": [
    {
     "name": "stdout",
     "output_type": "stream",
     "text": [
      "Requirement already satisfied: redis==6.2.0 in ./.venv/lib/python3.9/site-packages (from -r requirements.txt (line 1)) (6.2.0)\n",
      "Requirement already satisfied: psycopg[binary]==3.2.9 in ./.venv/lib/python3.9/site-packages (from -r requirements.txt (line 2)) (3.2.9)\n",
      "Requirement already satisfied: pandas==2.3.0 in ./.venv/lib/python3.9/site-packages (from -r requirements.txt (line 3)) (2.3.0)\n",
      "Collecting pymongo==4.13.2\n",
      "  Downloading pymongo-4.13.2-cp39-cp39-macosx_11_0_arm64.whl (748 kB)\n",
      "\u001b[K     |████████████████████████████████| 748 kB 4.5 MB/s eta 0:00:01\n",
      "\u001b[?25hRequirement already satisfied: async-timeout>=4.0.3 in ./.venv/lib/python3.9/site-packages (from redis==6.2.0->-r requirements.txt (line 1)) (5.0.1)\n",
      "Requirement already satisfied: typing-extensions>=4.6 in ./.venv/lib/python3.9/site-packages (from psycopg[binary]==3.2.9->-r requirements.txt (line 2)) (4.14.0)\n",
      "Requirement already satisfied: psycopg-binary==3.2.9 in ./.venv/lib/python3.9/site-packages (from psycopg[binary]==3.2.9->-r requirements.txt (line 2)) (3.2.9)\n",
      "Requirement already satisfied: pytz>=2020.1 in ./.venv/lib/python3.9/site-packages (from pandas==2.3.0->-r requirements.txt (line 3)) (2025.2)\n",
      "Requirement already satisfied: python-dateutil>=2.8.2 in ./.venv/lib/python3.9/site-packages (from pandas==2.3.0->-r requirements.txt (line 3)) (2.9.0.post0)\n",
      "Requirement already satisfied: tzdata>=2022.7 in ./.venv/lib/python3.9/site-packages (from pandas==2.3.0->-r requirements.txt (line 3)) (2025.2)\n",
      "Requirement already satisfied: numpy>=1.22.4 in ./.venv/lib/python3.9/site-packages (from pandas==2.3.0->-r requirements.txt (line 3)) (2.0.2)\n",
      "Collecting dnspython<3.0.0,>=1.16.0\n",
      "  Downloading dnspython-2.7.0-py3-none-any.whl (313 kB)\n",
      "\u001b[K     |████████████████████████████████| 313 kB 45.5 MB/s eta 0:00:01\n",
      "\u001b[?25hRequirement already satisfied: six>=1.5 in ./.venv/lib/python3.9/site-packages (from python-dateutil>=2.8.2->pandas==2.3.0->-r requirements.txt (line 3)) (1.17.0)\n",
      "Installing collected packages: dnspython, pymongo\n",
      "Successfully installed dnspython-2.7.0 pymongo-4.13.2\n",
      "\u001b[33mWARNING: You are using pip version 21.2.4; however, version 25.1.1 is available.\n",
      "You should consider upgrading via the '/Users/faustin/Desktop/learning/curious-minds/ep1/.venv/bin/python -m pip install --upgrade pip' command.\u001b[0m\n",
      "Note: you may need to restart the kernel to use updated packages.\n"
     ]
    }
   ],
   "source": [
    "pip install -r requirements.txt"
   ]
  },
  {
   "cell_type": "markdown",
   "id": "65aad15e",
   "metadata": {},
   "source": [
    "# Redis"
   ]
  },
  {
   "cell_type": "code",
   "execution_count": 11,
   "id": "e28c92ee",
   "metadata": {},
   "outputs": [],
   "source": [
    "import redis \n",
    "import json\n",
    "# create redis instance\n",
    "r = redis.Redis(host='localhost', port=6379, db=0, decode_responses=True)"
   ]
  },
  {
   "cell_type": "code",
   "execution_count": 25,
   "id": "7cca00c6",
   "metadata": {},
   "outputs": [
    {
     "name": "stdout",
     "output_type": "stream",
     "text": [
      "{'name': 'Faustin', 'age': 30, 'language': 'Python'}\n",
      "Hello world\n",
      "['1', '23', '4']\n"
     ]
    }
   ],
   "source": [
    "user = {\"name\": \"Faustin\", \"age\": 30, \"language\": \"Python\"}\n",
    "#  Save data to redis\n",
    "r.set(\"user:101\", json.dumps(user))\n",
    "\n",
    "# retrieve data\n",
    "data = json.loads(r.get(\"user:101\"))\n",
    "print(data)\n",
    "\n",
    "# set other value\n",
    "r.set(\"09932\", \"Hello world\")\n",
    "data = r.get(\"09932\")\n",
    "print(data)\n",
    "\n",
    "# save a list\n",
    "r.delete(\"mylist\")\n",
    "r.rpush('mylist', *[1,23,4])\n",
    "data = r.lrange(\"mylist\", 0,-1)\n",
    "print(data)\n",
    "# learn more at: https://pypi.org/project/redis/"
   ]
  },
  {
   "cell_type": "markdown",
   "id": "51a23a19",
   "metadata": {},
   "source": [
    "# Postgres"
   ]
  },
  {
   "cell_type": "code",
   "execution_count": 3,
   "id": "1294426a",
   "metadata": {},
   "outputs": [],
   "source": [
    "# Connection parameters\n",
    "conn_params = {\n",
    "    \"dbname\": \"mydatabase\",\n",
    "    \"user\": \"myuser\",\n",
    "    \"password\": \"mypassword\",\n",
    "    \"host\": \"localhost\",  # use \"postgres\" if running inside Docker\n",
    "    \"port\": 5432\n",
    "}"
   ]
  },
  {
   "cell_type": "code",
   "execution_count": null,
   "id": "d1ab0a42",
   "metadata": {},
   "outputs": [],
   "source": [
    "import psycopg\n",
    "import pandas as pd\n",
    "\n",
    "# Define all uses\n",
    "users_to_insert = [\n",
    "    (\"User1\", 20),\n",
    "    (\"User2\", 21),\n",
    "    (\"User3\", 22),\n",
    "    (\"User4\", 23),\n",
    "    (\"User5\", 24),\n",
    "    (\"User6\", 25),\n",
    "    (\"User7\", 26),\n",
    "    (\"User8\", 27),\n",
    "    (\"User9\", 28),\n",
    "    (\"User10\", 29),\n",
    "]\n",
    "\n",
    "\n",
    "\n",
    "\n",
    "with psycopg.connect(**conn_params) as conn:\n",
    "    with conn.cursor() as cur:\n",
    "        cur.execute(\"\"\"\n",
    "            CREATE TABLE IF NOT EXISTS users (\n",
    "                id SERIAL PRIMARY KEY,\n",
    "                name TEXT,\n",
    "                age INTEGER\n",
    "            )\n",
    "        \"\"\")\n",
    "        \n",
    "        # Insert multiple rows at once\n",
    "        cur.executemany(\n",
    "            \"INSERT INTO users (name, age) VALUES (%s, %s)\",\n",
    "            users_to_insert\n",
    "        )"
   ]
  },
  {
   "cell_type": "code",
   "execution_count": 4,
   "id": "0c3e8370",
   "metadata": {},
   "outputs": [
    {
     "data": {
      "text/html": [
       "<div>\n",
       "<style scoped>\n",
       "    .dataframe tbody tr th:only-of-type {\n",
       "        vertical-align: middle;\n",
       "    }\n",
       "\n",
       "    .dataframe tbody tr th {\n",
       "        vertical-align: top;\n",
       "    }\n",
       "\n",
       "    .dataframe thead th {\n",
       "        text-align: right;\n",
       "    }\n",
       "</style>\n",
       "<table border=\"1\" class=\"dataframe\">\n",
       "  <thead>\n",
       "    <tr style=\"text-align: right;\">\n",
       "      <th></th>\n",
       "      <th>id</th>\n",
       "      <th>name</th>\n",
       "      <th>age</th>\n",
       "    </tr>\n",
       "  </thead>\n",
       "  <tbody>\n",
       "    <tr>\n",
       "      <th>0</th>\n",
       "      <td>1</td>\n",
       "      <td>User1</td>\n",
       "      <td>20</td>\n",
       "    </tr>\n",
       "    <tr>\n",
       "      <th>1</th>\n",
       "      <td>2</td>\n",
       "      <td>User2</td>\n",
       "      <td>21</td>\n",
       "    </tr>\n",
       "    <tr>\n",
       "      <th>2</th>\n",
       "      <td>3</td>\n",
       "      <td>User3</td>\n",
       "      <td>22</td>\n",
       "    </tr>\n",
       "    <tr>\n",
       "      <th>3</th>\n",
       "      <td>4</td>\n",
       "      <td>User4</td>\n",
       "      <td>23</td>\n",
       "    </tr>\n",
       "    <tr>\n",
       "      <th>4</th>\n",
       "      <td>5</td>\n",
       "      <td>User5</td>\n",
       "      <td>24</td>\n",
       "    </tr>\n",
       "    <tr>\n",
       "      <th>5</th>\n",
       "      <td>6</td>\n",
       "      <td>User6</td>\n",
       "      <td>25</td>\n",
       "    </tr>\n",
       "    <tr>\n",
       "      <th>6</th>\n",
       "      <td>7</td>\n",
       "      <td>User7</td>\n",
       "      <td>26</td>\n",
       "    </tr>\n",
       "    <tr>\n",
       "      <th>7</th>\n",
       "      <td>8</td>\n",
       "      <td>User8</td>\n",
       "      <td>27</td>\n",
       "    </tr>\n",
       "    <tr>\n",
       "      <th>8</th>\n",
       "      <td>9</td>\n",
       "      <td>User9</td>\n",
       "      <td>28</td>\n",
       "    </tr>\n",
       "    <tr>\n",
       "      <th>9</th>\n",
       "      <td>10</td>\n",
       "      <td>User10</td>\n",
       "      <td>29</td>\n",
       "    </tr>\n",
       "    <tr>\n",
       "      <th>10</th>\n",
       "      <td>11</td>\n",
       "      <td>User1</td>\n",
       "      <td>20</td>\n",
       "    </tr>\n",
       "    <tr>\n",
       "      <th>11</th>\n",
       "      <td>12</td>\n",
       "      <td>User2</td>\n",
       "      <td>21</td>\n",
       "    </tr>\n",
       "    <tr>\n",
       "      <th>12</th>\n",
       "      <td>13</td>\n",
       "      <td>User3</td>\n",
       "      <td>22</td>\n",
       "    </tr>\n",
       "    <tr>\n",
       "      <th>13</th>\n",
       "      <td>14</td>\n",
       "      <td>User4</td>\n",
       "      <td>23</td>\n",
       "    </tr>\n",
       "    <tr>\n",
       "      <th>14</th>\n",
       "      <td>15</td>\n",
       "      <td>User5</td>\n",
       "      <td>24</td>\n",
       "    </tr>\n",
       "    <tr>\n",
       "      <th>15</th>\n",
       "      <td>16</td>\n",
       "      <td>User6</td>\n",
       "      <td>25</td>\n",
       "    </tr>\n",
       "    <tr>\n",
       "      <th>16</th>\n",
       "      <td>17</td>\n",
       "      <td>User7</td>\n",
       "      <td>26</td>\n",
       "    </tr>\n",
       "    <tr>\n",
       "      <th>17</th>\n",
       "      <td>18</td>\n",
       "      <td>User8</td>\n",
       "      <td>27</td>\n",
       "    </tr>\n",
       "    <tr>\n",
       "      <th>18</th>\n",
       "      <td>19</td>\n",
       "      <td>User9</td>\n",
       "      <td>28</td>\n",
       "    </tr>\n",
       "    <tr>\n",
       "      <th>19</th>\n",
       "      <td>20</td>\n",
       "      <td>User10</td>\n",
       "      <td>29</td>\n",
       "    </tr>\n",
       "  </tbody>\n",
       "</table>\n",
       "</div>"
      ],
      "text/plain": [
       "    id    name  age\n",
       "0    1   User1   20\n",
       "1    2   User2   21\n",
       "2    3   User3   22\n",
       "3    4   User4   23\n",
       "4    5   User5   24\n",
       "5    6   User6   25\n",
       "6    7   User7   26\n",
       "7    8   User8   27\n",
       "8    9   User9   28\n",
       "9   10  User10   29\n",
       "10  11   User1   20\n",
       "11  12   User2   21\n",
       "12  13   User3   22\n",
       "13  14   User4   23\n",
       "14  15   User5   24\n",
       "15  16   User6   25\n",
       "16  17   User7   26\n",
       "17  18   User8   27\n",
       "18  19   User9   28\n",
       "19  20  User10   29"
      ]
     },
     "execution_count": 4,
     "metadata": {},
     "output_type": "execute_result"
    }
   ],
   "source": [
    "import psycopg\n",
    "import pandas as pd\n",
    "\n",
    "#  Fetch users as pandas dataframe\n",
    "with psycopg.connect(**conn_params) as conn:\n",
    "    with conn.cursor() as cur:\n",
    "        cur.execute(\"SELECT * FROM users\")\n",
    "        rows = cur.fetchall()               # list of tuples\n",
    "        colnames = [desc[0] for desc in cur.description]  # get column names\n",
    "\n",
    "# Create DataFrame from rows + column names\n",
    "df = pd.DataFrame(rows, columns=colnames)\n",
    "df"
   ]
  },
  {
   "cell_type": "markdown",
   "id": "32c676e1",
   "metadata": {},
   "source": [
    "# MongoDB"
   ]
  },
  {
   "cell_type": "markdown",
   "id": "a5fd07a7",
   "metadata": {},
   "source": [
    "## Create connection"
   ]
  },
  {
   "cell_type": "code",
   "execution_count": 7,
   "id": "284209db",
   "metadata": {},
   "outputs": [],
   "source": [
    "from pymongo import MongoClient\n",
    "import random\n",
    "import string\n",
    "\n",
    "# MongoDB connection details\n",
    "mongo_user = \"mongoadmin\"\n",
    "mongo_password = \"secretpassword\"\n",
    "mongo_host = \"localhost\"  # or \"mongo\" if inside Docker Compose\n",
    "mongo_port = 27017\n",
    "\n",
    "uri = f\"mongodb://{mongo_user}:{mongo_password}@{mongo_host}:{mongo_port}/\"\n",
    "client = MongoClient(uri)\n",
    "\n",
    "db = client.mydatabase\n",
    "collection = db.users"
   ]
  },
  {
   "cell_type": "code",
   "execution_count": null,
   "id": "60de57c6",
   "metadata": {},
   "outputs": [
    {
     "name": "stdout",
     "output_type": "stream",
     "text": [
      "Inserted user IDs: [ObjectId('685ca7cc5cc3c84f3ec6d09c'), ObjectId('685ca7cc5cc3c84f3ec6d09d'), ObjectId('685ca7cc5cc3c84f3ec6d09e'), ObjectId('685ca7cc5cc3c84f3ec6d09f'), ObjectId('685ca7cc5cc3c84f3ec6d0a0'), ObjectId('685ca7cc5cc3c84f3ec6d0a1'), ObjectId('685ca7cc5cc3c84f3ec6d0a2'), ObjectId('685ca7cc5cc3c84f3ec6d0a3'), ObjectId('685ca7cc5cc3c84f3ec6d0a4'), ObjectId('685ca7cc5cc3c84f3ec6d0a5')]\n"
     ]
    }
   ],
   "source": [
    "# Function to generate random name\n",
    "def random_name(length=6):\n",
    "    return ''.join(random.choices(string.ascii_letters, k=length))\n",
    "\n",
    "# Generate 10 random user documents\n",
    "users = []\n",
    "for _ in range(10):\n",
    "    user = {\n",
    "        \"name\": random_name(),\n",
    "        \"age\": random.randint(18, 60)\n",
    "    }\n",
    "    users.append(user)\n",
    "\n",
    "# Insert users into MongoDB\n",
    "result = collection.insert_many(users)\n",
    "print(f\"Inserted user IDs: {result.inserted_ids}\")\n"
   ]
  },
  {
   "cell_type": "markdown",
   "id": "22bb83b2",
   "metadata": {},
   "source": [
    "## Add other fields"
   ]
  },
  {
   "cell_type": "code",
   "execution_count": 17,
   "id": "c3e23d70",
   "metadata": {},
   "outputs": [
    {
     "name": "stdout",
     "output_type": "stream",
     "text": [
      "Inserted user IDs: [ObjectId('685cab585cc3c84f3ec6d0a7'), ObjectId('685cab585cc3c84f3ec6d0a8'), ObjectId('685cab585cc3c84f3ec6d0a9'), ObjectId('685cab585cc3c84f3ec6d0aa'), ObjectId('685cab585cc3c84f3ec6d0ab'), ObjectId('685cab585cc3c84f3ec6d0ac'), ObjectId('685cab585cc3c84f3ec6d0ad'), ObjectId('685cab585cc3c84f3ec6d0ae'), ObjectId('685cab585cc3c84f3ec6d0af'), ObjectId('685cab585cc3c84f3ec6d0b0')]\n"
     ]
    }
   ],
   "source": [
    "users = []\n",
    "for _ in range(10):\n",
    "    user = {\n",
    "        \"name\": random_name(),\n",
    "        \"age\": random.randint(18, 60),\n",
    "        \"Income\":random.randint(4000, 10000),\n",
    "    }\n",
    "    users.append(user)\n",
    "# Insert users into MongoDB\n",
    "result = collection.insert_many(users)\n",
    "print(f\"Inserted user IDs: {result.inserted_ids}\")\n"
   ]
  },
  {
   "cell_type": "markdown",
   "id": "9b75e88e",
   "metadata": {},
   "source": [
    "## Fetch Data"
   ]
  },
  {
   "cell_type": "code",
   "execution_count": 18,
   "id": "f4ec78ca",
   "metadata": {},
   "outputs": [
    {
     "name": "stdout",
     "output_type": "stream",
     "text": [
      "{'_id': ObjectId('685ca7cc5cc3c84f3ec6d09c'), 'name': 'sjlRCW', 'age': 56}\n",
      "{'_id': ObjectId('685ca7cc5cc3c84f3ec6d09d'), 'name': 'wcTswC', 'age': 51}\n",
      "{'_id': ObjectId('685ca7cc5cc3c84f3ec6d09e'), 'name': 'HjfpEh', 'age': 51}\n",
      "{'_id': ObjectId('685ca7cc5cc3c84f3ec6d09f'), 'name': 'LonCeb', 'age': 32}\n",
      "{'_id': ObjectId('685ca7cc5cc3c84f3ec6d0a0'), 'name': 'frZASE', 'age': 41}\n",
      "{'_id': ObjectId('685ca7cc5cc3c84f3ec6d0a1'), 'name': 'APqcyE', 'age': 56}\n",
      "{'_id': ObjectId('685ca7cc5cc3c84f3ec6d0a2'), 'name': 'heeoMe', 'age': 38}\n",
      "{'_id': ObjectId('685ca7cc5cc3c84f3ec6d0a3'), 'name': 'ZTnCKP', 'age': 19}\n",
      "{'_id': ObjectId('685ca7cc5cc3c84f3ec6d0a4'), 'name': 'XrCJZS', 'age': 48}\n",
      "{'_id': ObjectId('685ca7cc5cc3c84f3ec6d0a5'), 'name': 'QwizYM', 'age': 42}\n",
      "{'_id': ObjectId('685cab585cc3c84f3ec6d0a7'), 'name': 'GmADRa', 'age': 42, 'Income': 7506}\n",
      "{'_id': ObjectId('685cab585cc3c84f3ec6d0a8'), 'name': 'appwFb', 'age': 54, 'Income': 5880}\n",
      "{'_id': ObjectId('685cab585cc3c84f3ec6d0a9'), 'name': 'vVNvEZ', 'age': 35, 'Income': 9753}\n",
      "{'_id': ObjectId('685cab585cc3c84f3ec6d0aa'), 'name': 'dReKwf', 'age': 53, 'Income': 8892}\n",
      "{'_id': ObjectId('685cab585cc3c84f3ec6d0ab'), 'name': 'qimzIA', 'age': 23, 'Income': 5827}\n",
      "{'_id': ObjectId('685cab585cc3c84f3ec6d0ac'), 'name': 'eizAyO', 'age': 53, 'Income': 7771}\n",
      "{'_id': ObjectId('685cab585cc3c84f3ec6d0ad'), 'name': 'cSTSNw', 'age': 32, 'Income': 9753}\n",
      "{'_id': ObjectId('685cab585cc3c84f3ec6d0ae'), 'name': 'WCvlDb', 'age': 57, 'Income': 5817}\n",
      "{'_id': ObjectId('685cab585cc3c84f3ec6d0af'), 'name': 'fiGTdf', 'age': 39, 'Income': 7144}\n",
      "{'_id': ObjectId('685cab585cc3c84f3ec6d0b0'), 'name': 'zvgoCZ', 'age': 41, 'Income': 6809}\n"
     ]
    }
   ],
   "source": [
    "\n",
    "# Select DB and collection\n",
    "db = client.mydatabase\n",
    "collection = db.users\n",
    "\n",
    "# Fetch all users\n",
    "users = collection.find()\n",
    "\n",
    "# Print each user\n",
    "for user in users:\n",
    "    print(user)\n"
   ]
  },
  {
   "cell_type": "code",
   "execution_count": null,
   "id": "4beaf4a5",
   "metadata": {},
   "outputs": [],
   "source": []
  }
 ],
 "metadata": {
  "kernelspec": {
   "display_name": ".venv",
   "language": "python",
   "name": "python3"
  },
  "language_info": {
   "codemirror_mode": {
    "name": "ipython",
    "version": 3
   },
   "file_extension": ".py",
   "mimetype": "text/x-python",
   "name": "python",
   "nbconvert_exporter": "python",
   "pygments_lexer": "ipython3",
   "version": "3.9.6"
  }
 },
 "nbformat": 4,
 "nbformat_minor": 5
}
