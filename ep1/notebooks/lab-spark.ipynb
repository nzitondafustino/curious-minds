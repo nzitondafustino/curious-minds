{
 "cells": [
  {
   "cell_type": "markdown",
   "id": "04b82ae2-df8f-4237-8a30-7d06f762f4f9",
   "metadata": {
    "jupyter": {
     "outputs_hidden": true
    },
    "tags": []
   },
   "source": [
    "## Create Spark session"
   ]
  },
  {
   "cell_type": "code",
   "execution_count": 1,
   "id": "bbfadb61",
   "metadata": {},
   "outputs": [],
   "source": [
    "from pyspark.sql import SparkSession\n",
    "spark = SparkSession.builder \\\n",
    "    .appName(\"Jupyter with Spark Cluster\") \\\n",
    "    .master(\"spark://spark-master:7077\") \\\n",
    "    .getOrCreate()"
   ]
  },
  {
   "cell_type": "code",
   "execution_count": 4,
   "id": "f15cb1ec-d0a0-470f-ba6e-8889fba0998d",
   "metadata": {},
   "outputs": [
    {
     "data": {
      "text/html": [
       "\n",
       "            <div>\n",
       "                <p><b>SparkSession - in-memory</b></p>\n",
       "                \n",
       "        <div>\n",
       "            <p><b>SparkContext</b></p>\n",
       "\n",
       "            <p><a href=\"http://f128bc90d885:4040\">Spark UI</a></p>\n",
       "\n",
       "            <dl>\n",
       "              <dt>Version</dt>\n",
       "                <dd><code>v3.3.0</code></dd>\n",
       "              <dt>Master</dt>\n",
       "                <dd><code>spark://spark-master:7077</code></dd>\n",
       "              <dt>AppName</dt>\n",
       "                <dd><code>Jupyter with Spark Cluster</code></dd>\n",
       "            </dl>\n",
       "        </div>\n",
       "        \n",
       "            </div>\n",
       "        "
      ],
      "text/plain": [
       "<pyspark.sql.session.SparkSession at 0xffffb01d2b00>"
      ]
     },
     "execution_count": 4,
     "metadata": {},
     "output_type": "execute_result"
    }
   ],
   "source": [
    "spark"
   ]
  },
  {
   "cell_type": "code",
   "execution_count": null,
   "id": "0a67cbd8-c38f-48a0-a9f2-24b0dc5d17a8",
   "metadata": {},
   "outputs": [],
   "source": []
  },
  {
   "cell_type": "markdown",
   "id": "d199aa50-046b-46bc-85be-551de92d7442",
   "metadata": {},
   "source": [
    "## Read csv file with spark session"
   ]
  },
  {
   "cell_type": "code",
   "execution_count": 2,
   "id": "07fa7ee5",
   "metadata": {},
   "outputs": [],
   "source": [
    "df = spark.read.csv(\"/home/jovyan/data/email.csv\", header=True, inferSchema=True, sep=\";\")"
   ]
  },
  {
   "cell_type": "code",
   "execution_count": 3,
   "id": "c828833a",
   "metadata": {
    "tags": []
   },
   "outputs": [
    {
     "name": "stdout",
     "output_type": "stream",
     "text": [
      "+-----------------+----------+----------+---------+\n",
      "|      Login email|Identifier|First name|Last name|\n",
      "+-----------------+----------+----------+---------+\n",
      "|laura@example.com|      2070|     Laura|     Grey|\n",
      "|craig@example.com|      4081|     Craig|  Johnson|\n",
      "| mary@example.com|      9346|      Mary|  Jenkins|\n",
      "|jamie@example.com|      5079|     Jamie|    Smith|\n",
      "+-----------------+----------+----------+---------+\n",
      "\n"
     ]
    }
   ],
   "source": [
    "df.show()"
   ]
  },
  {
   "cell_type": "code",
   "execution_count": 9,
   "id": "4ebe7080-76b4-46a9-95f0-e69a38607745",
   "metadata": {},
   "outputs": [
    {
     "name": "stdout",
     "output_type": "stream",
     "text": [
      "root\n",
      " |-- Login email: string (nullable = true)\n",
      " |-- Identifier: integer (nullable = true)\n",
      " |-- First name: string (nullable = true)\n",
      " |-- Last name: string (nullable = true)\n",
      "\n"
     ]
    }
   ],
   "source": [
    "df.printSchema()"
   ]
  },
  {
   "cell_type": "markdown",
   "id": "23e8a6bd-fbcb-4ec2-8cee-74b30ea90b58",
   "metadata": {},
   "source": [
    "# Read Parquet files"
   ]
  },
  {
   "cell_type": "code",
   "execution_count": 5,
   "id": "d893e4ec-dc66-46cd-a0f6-5fcb790534ba",
   "metadata": {},
   "outputs": [],
   "source": [
    "bank_failures_df = spark.read.parquet(\"/home/jovyan/data/bank_failures.parquet\")"
   ]
  },
  {
   "cell_type": "code",
   "execution_count": 10,
   "id": "fd663896-09b9-446f-8edc-eede883990ca",
   "metadata": {},
   "outputs": [
    {
     "name": "stdout",
     "output_type": "stream",
     "text": [
      "+---+--------------------+-------------+-------------+----------+--------------------+--------------+\n",
      "| c1|                Bank|         City|        State|      Date|         Acquired by|Assets ($mil.)|\n",
      "+---+--------------------+-------------+-------------+----------+--------------------+--------------+\n",
      "|  1|Douglass National...|  Kansas City|     Missouri|2008-01-25|Liberty Bank and ...|          58.5|\n",
      "|  2|           Hume Bank|         Hume|     Missouri|2008-03-07|       Security Bank|          18.7|\n",
      "|  3|        Bear Stearns|New York City|     New York|2008-03-16|   J.P. Morgan Chase|      395000.0|\n",
      "|  4|  ANB Financial N.A.|  Bentonville|     Arkansas|2008-05-09|Pulaski Bank and ...|        2100.0|\n",
      "|  5|First Integrity B...|      Staples|    Minnesota|2008-05-30|First Internation...|          54.7|\n",
      "|  6|             IndyMac|     Pasadena|   California|2008-07-11|   OneWest Bank, FSB|       32000.0|\n",
      "|  7|First National Ba...|         Reno|       Nevada|2008-07-25|Mutual of Omaha Bank|        3400.0|\n",
      "|  8|First Heritage Ba...|Newport Beach|   California|2008-07-25|Mutual of Omaha Bank|         254.0|\n",
      "|  9| First Priority Bank|    Bradenton|      Florida|2008-08-01|      SunTrust Banks|         259.0|\n",
      "| 10|The Columbian Ban...|       Topeka|       Kansas|2008-08-22|Citizens Bank and...|         752.0|\n",
      "| 11|      Integrity Bank|   Alpharetta|      Georgia|2008-08-29|        Regions Bank|        1100.0|\n",
      "| 12|   Silver State Bank|    Henderson|       Nevada|2008-09-05|   Nevada State Bank|        2000.0|\n",
      "| 13|           Ameribank|    Northfork|West Virginia|2008-09-19|The Citizens Savi...|         113.0|\n",
      "| 14|Washington Mutual...|      Seattle|   Washington|2008-09-25| JPMorgan Chase & Co|      307000.0|\n",
      "| 15|    Main Street Bank|   Northville|     Michigan|2008-10-10|Monroe Bank and T...|          98.0|\n",
      "| 16|       Meridian Bank|       Eldred|     Illinois|2008-10-10|       National Bank|          39.2|\n",
      "| 17|  Alpha Bank & Trust|   Alpharetta|      Georgia|2008-10-24|  Stearns Bank, N.A.|         354.1|\n",
      "| 18|        Freedom Bank|    Bradenton|      Florida|2008-10-31|    Fifth Third Bank|         287.0|\n",
      "| 19|       Franklin Bank|      Houston|        Texas|2008-11-07|     Prosperity Bank|        5100.0|\n",
      "| 20|Security Pacific ...|  Los Angeles|   California|2008-11-07|Pacific Western Bank|         561.1|\n",
      "+---+--------------------+-------------+-------------+----------+--------------------+--------------+\n",
      "only showing top 20 rows\n",
      "\n"
     ]
    }
   ],
   "source": [
    "bank_failures_df.show()"
   ]
  },
  {
   "cell_type": "code",
   "execution_count": 7,
   "id": "95276fcf-8829-49f9-a41c-17892c0b6d79",
   "metadata": {},
   "outputs": [
    {
     "name": "stdout",
     "output_type": "stream",
     "text": [
      "root\n",
      " |-- c1: long (nullable = true)\n",
      " |-- Bank: string (nullable = true)\n",
      " |-- City: string (nullable = true)\n",
      " |-- State: string (nullable = true)\n",
      " |-- Date: date (nullable = true)\n",
      " |-- Acquired by: string (nullable = true)\n",
      " |-- Assets ($mil.): double (nullable = true)\n",
      "\n"
     ]
    }
   ],
   "source": [
    "bank_failures_df.printSchema()"
   ]
  },
  {
   "cell_type": "code",
   "execution_count": 11,
   "id": "693cffa7-b5da-46c6-bd5e-458cd17dfe1e",
   "metadata": {},
   "outputs": [
    {
     "name": "stdout",
     "output_type": "stream",
     "text": [
      "+---+--------------------+-------------+----------+----------+--------------------+--------------+----------+\n",
      "| c1|                Bank|         City|     State|      Date|         Acquired by|Assets ($mil.)|        St|\n",
      "+---+--------------------+-------------+----------+----------+--------------------+--------------+----------+\n",
      "|  1|Douglass National...|  Kansas City|  Missouri|2008-01-25|Liberty Bank and ...|          58.5|  Missouri|\n",
      "|  2|           Hume Bank|         Hume|  Missouri|2008-03-07|       Security Bank|          18.7|  Missouri|\n",
      "|  3|        Bear Stearns|New York City|  New York|2008-03-16|   J.P. Morgan Chase|      395000.0|  New York|\n",
      "|  4|  ANB Financial N.A.|  Bentonville|  Arkansas|2008-05-09|Pulaski Bank and ...|        2100.0|  Arkansas|\n",
      "|  5|First Integrity B...|      Staples| Minnesota|2008-05-30|First Internation...|          54.7| Minnesota|\n",
      "|  6|             IndyMac|     Pasadena|California|2008-07-11|   OneWest Bank, FSB|       32000.0|California|\n",
      "|  7|First National Ba...|         Reno|    Nevada|2008-07-25|Mutual of Omaha Bank|        3400.0|    Nevada|\n",
      "|  8|First Heritage Ba...|Newport Beach|California|2008-07-25|Mutual of Omaha Bank|         254.0|California|\n",
      "|  9| First Priority Bank|    Bradenton|   Florida|2008-08-01|      SunTrust Banks|         259.0|   Florida|\n",
      "| 10|The Columbian Ban...|       Topeka|    Kansas|2008-08-22|Citizens Bank and...|         752.0|    Kansas|\n",
      "+---+--------------------+-------------+----------+----------+--------------------+--------------+----------+\n",
      "\n"
     ]
    }
   ],
   "source": [
    "spark.sql(\"\"\"\n",
    "            SELECT \n",
    "                *,\n",
    "                State AS St\n",
    "            FROM {df}\n",
    "            LIMIT 10\n",
    "          \"\"\", df=bank_failures_df).show()"
   ]
  },
  {
   "cell_type": "code",
   "execution_count": 12,
   "id": "b49131c1-8d43-48e6-be73-6b0d79c084f8",
   "metadata": {},
   "outputs": [
    {
     "name": "stdout",
     "output_type": "stream",
     "text": [
      "+---+--------------------+-------------+-------------+----------+--------------------+--------+\n",
      "| c1|                Bank|         City|        State|      Date|         Acquired by|  Assets|\n",
      "+---+--------------------+-------------+-------------+----------+--------------------+--------+\n",
      "|  1|Douglass National...|  Kansas City|     Missouri|2008-01-25|Liberty Bank and ...|    58.5|\n",
      "|  2|           Hume Bank|         Hume|     Missouri|2008-03-07|       Security Bank|    18.7|\n",
      "|  3|        Bear Stearns|New York City|     New York|2008-03-16|   J.P. Morgan Chase|395000.0|\n",
      "|  4|  ANB Financial N.A.|  Bentonville|     Arkansas|2008-05-09|Pulaski Bank and ...|  2100.0|\n",
      "|  5|First Integrity B...|      Staples|    Minnesota|2008-05-30|First Internation...|    54.7|\n",
      "|  6|             IndyMac|     Pasadena|   California|2008-07-11|   OneWest Bank, FSB| 32000.0|\n",
      "|  7|First National Ba...|         Reno|       Nevada|2008-07-25|Mutual of Omaha Bank|  3400.0|\n",
      "|  8|First Heritage Ba...|Newport Beach|   California|2008-07-25|Mutual of Omaha Bank|   254.0|\n",
      "|  9| First Priority Bank|    Bradenton|      Florida|2008-08-01|      SunTrust Banks|   259.0|\n",
      "| 10|The Columbian Ban...|       Topeka|       Kansas|2008-08-22|Citizens Bank and...|   752.0|\n",
      "| 11|      Integrity Bank|   Alpharetta|      Georgia|2008-08-29|        Regions Bank|  1100.0|\n",
      "| 12|   Silver State Bank|    Henderson|       Nevada|2008-09-05|   Nevada State Bank|  2000.0|\n",
      "| 13|           Ameribank|    Northfork|West Virginia|2008-09-19|The Citizens Savi...|   113.0|\n",
      "| 14|Washington Mutual...|      Seattle|   Washington|2008-09-25| JPMorgan Chase & Co|307000.0|\n",
      "| 15|    Main Street Bank|   Northville|     Michigan|2008-10-10|Monroe Bank and T...|    98.0|\n",
      "| 16|       Meridian Bank|       Eldred|     Illinois|2008-10-10|       National Bank|    39.2|\n",
      "| 17|  Alpha Bank & Trust|   Alpharetta|      Georgia|2008-10-24|  Stearns Bank, N.A.|   354.1|\n",
      "| 18|        Freedom Bank|    Bradenton|      Florida|2008-10-31|    Fifth Third Bank|   287.0|\n",
      "| 19|       Franklin Bank|      Houston|        Texas|2008-11-07|     Prosperity Bank|  5100.0|\n",
      "| 20|Security Pacific ...|  Los Angeles|   California|2008-11-07|Pacific Western Bank|   561.1|\n",
      "+---+--------------------+-------------+-------------+----------+--------------------+--------+\n",
      "only showing top 20 rows\n",
      "\n"
     ]
    }
   ],
   "source": [
    "new_bank_failures_df = bank_failures_df.withColumnRenamed(\"Assets ($mil.)\",\"Assets\")\n",
    "new_bank_failures_df.show()"
   ]
  },
  {
   "cell_type": "code",
   "execution_count": 13,
   "id": "f1b2e5ba-f954-4314-8a96-acdc6d73b133",
   "metadata": {},
   "outputs": [
    {
     "name": "stdout",
     "output_type": "stream",
     "text": [
      "+---+--------------------+-------------+-------------+----------+--------------------+--------+----+-----+---+\n",
      "| c1|                Bank|         City|        State|      Date|         Acquired by|  Assets|Year|Month|Day|\n",
      "+---+--------------------+-------------+-------------+----------+--------------------+--------+----+-----+---+\n",
      "|  1|Douglass National...|  Kansas City|     Missouri|2008-01-25|Liberty Bank and ...|    58.5|2008|    1|  1|\n",
      "|  2|           Hume Bank|         Hume|     Missouri|2008-03-07|       Security Bank|    18.7|2008|    3|  3|\n",
      "|  3|        Bear Stearns|New York City|     New York|2008-03-16|   J.P. Morgan Chase|395000.0|2008|    3|  3|\n",
      "|  4|  ANB Financial N.A.|  Bentonville|     Arkansas|2008-05-09|Pulaski Bank and ...|  2100.0|2008|    5|  5|\n",
      "|  5|First Integrity B...|      Staples|    Minnesota|2008-05-30|First Internation...|    54.7|2008|    5|  5|\n",
      "|  6|             IndyMac|     Pasadena|   California|2008-07-11|   OneWest Bank, FSB| 32000.0|2008|    7|  7|\n",
      "|  7|First National Ba...|         Reno|       Nevada|2008-07-25|Mutual of Omaha Bank|  3400.0|2008|    7|  7|\n",
      "|  8|First Heritage Ba...|Newport Beach|   California|2008-07-25|Mutual of Omaha Bank|   254.0|2008|    7|  7|\n",
      "|  9| First Priority Bank|    Bradenton|      Florida|2008-08-01|      SunTrust Banks|   259.0|2008|    8|  8|\n",
      "| 10|The Columbian Ban...|       Topeka|       Kansas|2008-08-22|Citizens Bank and...|   752.0|2008|    8|  8|\n",
      "| 11|      Integrity Bank|   Alpharetta|      Georgia|2008-08-29|        Regions Bank|  1100.0|2008|    8|  8|\n",
      "| 12|   Silver State Bank|    Henderson|       Nevada|2008-09-05|   Nevada State Bank|  2000.0|2008|    9|  9|\n",
      "| 13|           Ameribank|    Northfork|West Virginia|2008-09-19|The Citizens Savi...|   113.0|2008|    9|  9|\n",
      "| 14|Washington Mutual...|      Seattle|   Washington|2008-09-25| JPMorgan Chase & Co|307000.0|2008|    9|  9|\n",
      "| 15|    Main Street Bank|   Northville|     Michigan|2008-10-10|Monroe Bank and T...|    98.0|2008|   10| 10|\n",
      "| 16|       Meridian Bank|       Eldred|     Illinois|2008-10-10|       National Bank|    39.2|2008|   10| 10|\n",
      "| 17|  Alpha Bank & Trust|   Alpharetta|      Georgia|2008-10-24|  Stearns Bank, N.A.|   354.1|2008|   10| 10|\n",
      "| 18|        Freedom Bank|    Bradenton|      Florida|2008-10-31|    Fifth Third Bank|   287.0|2008|   10| 10|\n",
      "| 19|       Franklin Bank|      Houston|        Texas|2008-11-07|     Prosperity Bank|  5100.0|2008|   11| 11|\n",
      "| 20|Security Pacific ...|  Los Angeles|   California|2008-11-07|Pacific Western Bank|   561.1|2008|   11| 11|\n",
      "+---+--------------------+-------------+-------------+----------+--------------------+--------+----+-----+---+\n",
      "only showing top 20 rows\n",
      "\n"
     ]
    }
   ],
   "source": [
    "import pyspark.sql.functions as F\n",
    "new_bank_failures_df = (new_bank_failures_df\n",
    "                        .withColumn(\"Year\", F.year(F.col(\"Date\")))\n",
    "                        .withColumn(\"Month\", F.month(F.col(\"Date\")))\n",
    "                        .withColumn(\"Day\", F.month(F.col(\"Date\"))))\n",
    "new_bank_failures_df.show()"
   ]
  },
  {
   "cell_type": "code",
   "execution_count": null,
   "id": "5426f5aa-989a-4a07-888d-9a164d95e060",
   "metadata": {},
   "outputs": [],
   "source": [
    "#jdsjhdsh"
   ]
  }
 ],
 "metadata": {
  "kernelspec": {
   "display_name": "Python 3 (ipykernel)",
   "language": "python",
   "name": "python3"
  },
  "language_info": {
   "codemirror_mode": {
    "name": "ipython",
    "version": 3
   },
   "file_extension": ".py",
   "mimetype": "text/x-python",
   "name": "python",
   "nbconvert_exporter": "python",
   "pygments_lexer": "ipython3",
   "version": "3.10.6"
  }
 },
 "nbformat": 4,
 "nbformat_minor": 5
}
